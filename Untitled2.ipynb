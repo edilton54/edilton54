{
  "nbformat": 4,
  "nbformat_minor": 0,
  "metadata": {
    "colab": {
      "provenance": [],
      "authorship_tag": "ABX9TyN/4P0wRfTu3yFyRIWaiwK5",
      "include_colab_link": true
    },
    "kernelspec": {
      "name": "python3",
      "display_name": "Python 3"
    },
    "language_info": {
      "name": "python"
    }
  },
  "cells": [
    {
      "cell_type": "markdown",
      "metadata": {
        "id": "view-in-github",
        "colab_type": "text"
      },
      "source": [
        "<a href=\"https://colab.research.google.com/github/edilton54/edilton54/blob/main/Untitled2.ipynb\" target=\"_parent\"><img src=\"https://colab.research.google.com/assets/colab-badge.svg\" alt=\"Open In Colab\"/></a>"
      ]
    },
    {
      "cell_type": "code",
      "source": [
        "x= 10 \n",
        "x*=2\n",
        "print (f\"x-{x}\")\n",
        "x/=2\n",
        "print :(f\"x={x}\")\n",
        "x%=2\n",
        "print  (f\"x={x}\")\n"
      ],
      "metadata": {
        "colab": {
          "base_uri": "https://localhost:8080/"
        },
        "id": "AFjgBvtwtjEq",
        "outputId": "0a5d8192-b254-4dc9-8418-a642216e602b"
      },
      "execution_count": 7,
      "outputs": [
        {
          "output_type": "stream",
          "name": "stdout",
          "text": [
            "x-20\n",
            "x=0.0\n"
          ]
        }
      ]
    }
  ]
}